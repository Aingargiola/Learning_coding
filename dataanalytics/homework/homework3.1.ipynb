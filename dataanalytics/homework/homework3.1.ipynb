{
 "cells": [
  {
   "attachments": {},
   "cell_type": "markdown",
   "metadata": {},
   "source": []
  },
  {
   "attachments": {},
   "cell_type": "markdown",
   "metadata": {},
   "source": [
    "Use a markdown numbered list to answer these questions.\n",
    "What is an algorithm?\n",
    "Why is Python considered to be a high-level language?\n",
    "Is Python a Natural or a Formal language?\n",
    "Variable names may not start with certain characters - name two.\n",
    "WHat is a Semantic error?\n",
    "What is the #1 rule of coding / debugging?\n",
    "list 5 Python reserved words.\n",
    "add and name, a web link for any Python coding article, in your markdown cell"
   ]
  },
  {
   "cell_type": "code",
   "execution_count": 3,
   "metadata": {},
   "outputs": [
    {
     "name": "stdout",
     "output_type": "stream",
     "text": [
      "My name is Anthony, my favorite food is pizza, and my dream job is data managment\n",
      "3\n",
      "ing Data Anal\n",
      "Learning Data Analytics and Python is great!\n",
      "Learning Data Analytics and Python is Awesome!\n",
      "Hi my name is Anthony, I am 6 feet tall, and 34 years old.\n",
      "34.0\n"
     ]
    }
   ],
   "source": [
    "# Write a multi-line comment with your name, favorite food, and dream job on 3 different lines.\n",
    "print(\"My name is Anthony, my favorite food is pizza, and my dream job is data managment\")\n",
    "# assign 5 different data types to 5 different variables. At least one datatype must be a string.\n",
    "a = \"Dog\"\n",
    "b = int(15)\n",
    "c = float(1.432)\n",
    "d = \"Cat\"\n",
    "e = int(14)\n",
    "# print the length of your string.\n",
    "print(len(a))\n",
    "# print the the index value of the 4th character in your string.\n",
    "\n",
    "# create a new variable called savvy, and assign it the string with this phrase \"Learning Data Analytics and Python is Awesome!\"\n",
    "savvy = \"Learning Data Analytics and Python is Awesome!\"\n",
    "# return a range of characters that slices the above string from the beginning of \"ing\" up to before \"and\"\n",
    "print(savvy[5:18])\n",
    "# Replace \"Awesome\" with \"great\" in the string\n",
    "new_savvy = savvy.replace(\"Awesome\", \"great\")\n",
    "print(new_savvy)\n",
    "# Test and print the savvy string to see it contains \"Python\"\n",
    "print(savvy)\n",
    "# Create and assign 3 more variables called name, age and length using the multi-variable naming method.\n",
    "name, age, lenght = \"Anthony\", 34, 6\n",
    "\n",
    "# Format a new string called 'miniBio' using variables in curly brackets to complete this phrase... \"Hi my name is (name), I am (tall) and (so) old today.\"\n",
    "print(f\"Hi my name is {name}, I am {lenght} feet tall, and {age} years old.\")\n",
    "# print 'miniBio'\n",
    "# cast and print the age variable to a float.\n",
    "print(float(age))\n"
   ]
  }
 ],
 "metadata": {
  "kernelspec": {
   "display_name": "Python 3",
   "language": "python",
   "name": "python3"
  },
  "language_info": {
   "codemirror_mode": {
    "name": "ipython",
    "version": 3
   },
   "file_extension": ".py",
   "mimetype": "text/x-python",
   "name": "python",
   "nbconvert_exporter": "python",
   "pygments_lexer": "ipython3",
   "version": "3.9.6"
  },
  "orig_nbformat": 4,
  "vscode": {
   "interpreter": {
    "hash": "31f2aee4e71d21fbe5cf8b01ff0e069b9275f58929596ceb00d14d90e3e16cd6"
   }
  }
 },
 "nbformat": 4,
 "nbformat_minor": 2
}
