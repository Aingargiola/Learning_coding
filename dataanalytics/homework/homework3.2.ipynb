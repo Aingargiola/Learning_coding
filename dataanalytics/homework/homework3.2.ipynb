{
 "cells": [
  {
   "attachments": {},
   "cell_type": "markdown",
   "metadata": {},
   "source": [
    "Create a list of at least 5 elements of mixed data types\n",
    "replace a part of it with something else\n",
    "append or insert several more items to the list\n",
    "find and print the length of the list\n",
    "slice a sub-section of the 1st list, and save it to a different 2nd list\n",
    "print the 2nd list\n",
    "extend your original list with the 2nd list sliced above\n",
    "Create a new list called \"simList\" containing at least 5 elements of the same data type, either string, integer, float, or Boolean.\n",
    "sort \"simList\", and print the list\n",
    "copy the \"simList\" list to another 3rd list\n",
    "add the 2nd and 3rd lists together into a 4th list"
   ]
  },
  {
   "cell_type": "code",
   "execution_count": 8,
   "metadata": {},
   "outputs": [
    {
     "name": "stdout",
     "output_type": "stream",
     "text": [
      "['eggs', 'meat', 'Pasta', 'bread', 'milk', 'Chicken']\n",
      "6\n",
      "['bread', 'milk', 'Chicken']\n",
      "['eggs', 'meat', 'Pasta', 'bread', 'milk', 'Chicken']\n",
      "['bread', 'milk', 'Chicken', 1, 2, 3, 5, 6, 7, 8, 1, 2, 3, 5, 6, 7, 8]\n"
     ]
    }
   ],
   "source": [
    "grocery_list = [\"eggs\", \"meat\", \"pizza\", \"bread\", \"milk\"]\n",
    "grocery_list[2] = \"Pasta\"\n",
    "grocery_list.append(\"Chicken\")\n",
    "print(grocery_list)\n",
    "print(len(grocery_list))\n",
    "middle_index = 3\n",
    "first_grocery = grocery_list[:middle_index]\n",
    "second_grocery = grocery_list[middle_index:]\n",
    "print(second_grocery)\n",
    "new_list = first_grocery + second_grocery\n",
    "print(new_list)\n",
    "sim_list = [1, 2, 3, 5, 6, 7, 8 ]\n",
    "sim_list.sort()\n",
    "new_sim_list = sim_list\n",
    "final_list = second_grocery + sim_list + new_sim_list\n",
    "print(final_list)"
   ]
  }
 ],
 "metadata": {
  "kernelspec": {
   "display_name": "Python 3",
   "language": "python",
   "name": "python3"
  },
  "language_info": {
   "codemirror_mode": {
    "name": "ipython",
    "version": 3
   },
   "file_extension": ".py",
   "mimetype": "text/x-python",
   "name": "python",
   "nbconvert_exporter": "python",
   "pygments_lexer": "ipython3",
   "version": "3.9.6"
  },
  "orig_nbformat": 4,
  "vscode": {
   "interpreter": {
    "hash": "31f2aee4e71d21fbe5cf8b01ff0e069b9275f58929596ceb00d14d90e3e16cd6"
   }
  }
 },
 "nbformat": 4,
 "nbformat_minor": 2
}
